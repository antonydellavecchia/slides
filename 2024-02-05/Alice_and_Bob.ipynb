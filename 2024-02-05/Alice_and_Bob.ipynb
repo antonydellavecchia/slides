{
 "cells": [
  {
   "cell_type": "code",
   "execution_count": 2,
   "id": "43938ef8-9cfb-4b8c-83c4-ffc03d010d31",
   "metadata": {},
   "outputs": [],
   "source": [
    "using Oscar"
   ]
  },
  {
   "cell_type": "markdown",
   "id": "75015797-99e7-4249-a809-e0b3014d1190",
   "metadata": {},
   "source": [
    "# Alice's section of the Notebook"
   ]
  },
  {
   "cell_type": "code",
   "execution_count": 3,
   "id": "fa811766-d4a7-456b-8626-5f717bd00fa9",
   "metadata": {},
   "outputs": [
    {
     "data": {
      "text/plain": [
       "Gröbner basis with elements\n",
       "1 -> x*y - 1\n",
       "2 -> x^2 + y^2 - 4\n",
       "3 -> y^3 + x - 4*y\n",
       "with respect to the ordering\n",
       "degrevlex([x, y])"
      ]
     },
     "execution_count": 3,
     "metadata": {},
     "output_type": "execute_result"
    }
   ],
   "source": [
    "Qxy, (x, y) = QQ[:x, :y]\n",
    "I = ideal([x * y - 1, x^2 + y^2 -4])\n",
    "gb = groebner_basis(I)"
   ]
  },
  {
   "cell_type": "markdown",
   "id": "c7a883b0-a845-4489-ae62-6035a67b8dbc",
   "metadata": {},
   "source": [
    "# Bob's section of the Notebook"
   ]
  },
  {
   "cell_type": "code",
   "execution_count": 24,
   "id": "fb94f582-0db0-41d5-b0ea-9b01a12c7f4c",
   "metadata": {},
   "outputs": [
    {
     "data": {
      "text/plain": [
       "QQFieldElem[]"
      ]
     },
     "execution_count": 24,
     "metadata": {},
     "output_type": "execute_result"
    }
   ],
   "source": [
    "F = fraction_field(Qxy)\n",
    "y_value = 1 // x\n",
    "eqs = [evaluate(p, [F(x), 1//x]) for p in gb]\n",
    "Qz, z = QQ[:z]\n",
    "uni_p = evaluate(numerator(eqs[2]), [z, z])\n",
    "roots(uni_p)"
   ]
  }
 ],
 "metadata": {
  "kernelspec": {
   "display_name": "Julia 1.10.0",
   "language": "julia",
   "name": "julia-1.10"
  },
  "language_info": {
   "file_extension": ".jl",
   "mimetype": "application/julia",
   "name": "julia",
   "version": "1.10.0"
  }
 },
 "nbformat": 4,
 "nbformat_minor": 5
}
